{
 "cells": [
  {
   "cell_type": "markdown",
   "metadata": {},
   "source": [
    "# Course Project: Creating a Variation of Fielding Independent Pitching\n",
    "\n",
    "create a new Fielding Independent Percentage that includes statcast data. Currently the FIP statistic is calculated as $\\frac{13 \\cdot HR+3 \\cdot (BB + HBP)-2 \\cdot K}{IP}+FIP constant$"
   ]
  },
  {
   "cell_type": "code",
   "execution_count": null,
   "metadata": {
    "collapsed": true
   },
   "outputs": [],
   "source": [
    "import pybaseball as pyb\n",
    "#aggregating season data\n",
    "pdata = pyb.pitching_stats(2016,2017,ind=0)"
   ]
  },
  {
   "cell_type": "code",
   "execution_count": 6,
   "metadata": {},
   "outputs": [
    {
     "name": "stdout",
     "output_type": "stream",
     "text": [
      "150     2.97\n",
      "94      2.89\n",
      "98      3.08\n",
      "50      2.49\n",
      "139     2.81\n",
      "165     3.65\n",
      "247     3.62\n",
      "196     2.70\n",
      "183     3.36\n",
      "82      2.15\n",
      "351     3.60\n",
      "188     3.42\n",
      "262     3.66\n",
      "294     3.90\n",
      "305     3.97\n",
      "345     3.20\n",
      "192     3.73\n",
      "265     3.80\n",
      "72      3.49\n",
      "403     3.43\n",
      "37      1.38\n",
      "195     3.76\n",
      "216     3.57\n",
      "210     3.71\n",
      "119     3.48\n",
      "370     3.73\n",
      "102     3.12\n",
      "320     3.74\n",
      "257     3.57\n",
      "267     3.45\n",
      "       ...  \n",
      "670     5.92\n",
      "762     6.15\n",
      "918    14.48\n",
      "599     5.62\n",
      "722     6.61\n",
      "731     6.61\n",
      "796     6.99\n",
      "727     6.71\n",
      "868     8.06\n",
      "690     7.91\n",
      "715     6.15\n",
      "787     7.45\n",
      "632     5.74\n",
      "822     9.85\n",
      "780     6.32\n",
      "682     6.12\n",
      "707     6.22\n",
      "706     6.86\n",
      "830     8.67\n",
      "656     6.10\n",
      "865     7.14\n",
      "860     7.74\n",
      "809     7.20\n",
      "673     5.94\n",
      "712     6.00\n",
      "799     7.39\n",
      "746     6.42\n",
      "788     6.89\n",
      "659     5.61\n",
      "759     6.52\n",
      "Name: FIP, Length: 948, dtype: float64\n"
     ]
    }
   ],
   "source": [
    "import pybaseball as pyb\n",
    "\n",
    "\n",
    "#retrieve stats used in calculating FIP\n",
    "#print(list(pdata.columns.values))\n",
    "#print(pdata['Name'])\n",
    "\n",
    "#retrieve statcast data to be added to FIP\n",
    "\n",
    "#create sFIP \n",
    "\n",
    "\n",
    "#retrieve ERA\n",
    "era = pdata['ERA']\n",
    "\n",
    "\n",
    "#retrieve FIP\n",
    "fip = pdata['FIP']\n"
   ]
  },
  {
   "cell_type": "code",
   "execution_count": null,
   "metadata": {
    "collapsed": true
   },
   "outputs": [],
   "source": []
  }
 ],
 "metadata": {
  "kernelspec": {
   "display_name": "Python 3",
   "language": "python",
   "name": "python3"
  },
  "language_info": {
   "codemirror_mode": {
    "name": "ipython",
    "version": 3
   },
   "file_extension": ".py",
   "mimetype": "text/x-python",
   "name": "python",
   "nbconvert_exporter": "python",
   "pygments_lexer": "ipython3",
   "version": "3.6.3"
  }
 },
 "nbformat": 4,
 "nbformat_minor": 2
}
